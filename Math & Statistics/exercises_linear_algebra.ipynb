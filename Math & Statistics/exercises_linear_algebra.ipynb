{
 "cells": [
  {
   "cell_type": "code",
   "execution_count": 6,
   "metadata": {},
   "outputs": [],
   "source": [
    "import math\n",
    "import numpy as np"
   ]
  },
  {
   "cell_type": "code",
   "execution_count": 13,
   "metadata": {},
   "outputs": [
    {
     "name": "stdout",
     "output_type": "stream",
     "text": [
      "107\n",
      "[24 24 20 19 20]\n"
     ]
    }
   ],
   "source": [
    "# Array sum \n",
    "a = np.array([16, 12, 6, 10, 11])\n",
    "b = np.array([8, 12, 14, 9, 9])\n",
    "\n",
    "c = a + b\n",
    "\n",
    "print(c.sum())\n",
    "print(c)"
   ]
  },
  {
   "cell_type": "code",
   "execution_count": 14,
   "metadata": {},
   "outputs": [
    {
     "name": "stdout",
     "output_type": "stream",
     "text": [
      "[121 320  90 100  77]\n",
      "708\n"
     ]
    }
   ],
   "source": [
    "# Hamanard product\n",
    "a = np.array([11, 20, 10, 10, 7])\n",
    "b = np.array([11, 16, 9, 10, 11])\n",
    "\n",
    "c = a * b\n",
    "print(c)\n",
    "print(c.sum())"
   ]
  },
  {
   "cell_type": "code",
   "execution_count": 18,
   "metadata": {},
   "outputs": [
    {
     "name": "stdout",
     "output_type": "stream",
     "text": [
      "[[16 21 17 13 14]\n",
      " [19 27 31 18 21]\n",
      " [20 24 29 12 27]\n",
      " [22 18 20 24 20]\n",
      " [15 17 25 12 18]]\n",
      "500\n"
     ]
    }
   ],
   "source": [
    "# Matrices sum\n",
    "a = np.array(\n",
    "   [[9,  14, 11,  6,  4],\n",
    "    [13, 12, 21,  2, 13],\n",
    "    [12, 15, 16,  5, 11],\n",
    "    [12, 11, 9,   9,  7],\n",
    "    [10, 10, 12,  3,  8]])\n",
    "\n",
    "b = np.array(\n",
    "   [[7,  7,  6,  7, 10],\n",
    "    [6, 15, 10, 16,  8],\n",
    "    [8,  9, 13,  7, 16],\n",
    "    [10, 7, 11, 15, 13],\n",
    "    [5,  7, 13,  9, 10]])\n",
    "\n",
    "c = a + b\n",
    "print(c)\n",
    "print(c.sum())"
   ]
  },
  {
   "cell_type": "code",
   "execution_count": 19,
   "metadata": {},
   "outputs": [
    {
     "name": "stdout",
     "output_type": "stream",
     "text": [
      "-3\n",
      "[-5  7  2 -3 -4]\n"
     ]
    }
   ],
   "source": [
    "# Arrays subtraction\n",
    "a = np.array([5, 10, 15, 2, 7])\n",
    "b = np.array([10, 3, 13, 5, 11])\n",
    "\n",
    "c = a - b\n",
    "\n",
    "print(c.sum())\n",
    "print(c)"
   ]
  },
  {
   "cell_type": "code",
   "execution_count": 20,
   "metadata": {},
   "outputs": [
    {
     "name": "stdout",
     "output_type": "stream",
     "text": [
      "611\n",
      "[117 208  78 104 104]\n"
     ]
    }
   ],
   "source": [
    "# Array and scalar product\n",
    "a = np.array([9, 16, 6, 8, 8])\n",
    "alpha = 13\n",
    "\n",
    "c = alpha * a\n",
    "\n",
    "print(c.sum())\n",
    "print(c)"
   ]
  },
  {
   "cell_type": "code",
   "execution_count": 21,
   "metadata": {},
   "outputs": [
    {
     "name": "stdout",
     "output_type": "stream",
     "text": [
      "[[ 13   1  -5   3   0]\n",
      " [  2  10   0  -9   1]\n",
      " [ -4   2  -5  -4  -4]\n",
      " [ -2  -1   3  -5   0]\n",
      " [-12  -6   2  -6  -4]]\n",
      "-30\n"
     ]
    }
   ],
   "source": [
    "# Matrices subtraction\n",
    "a = np.array(\n",
    "   [[16,  11,    9,   10,    9],\n",
    "    [11,  16,    9,    3,   10],\n",
    "    [8,   10,   12,    7,    6],\n",
    "    [12,  10,   12,    9,   10],\n",
    "    [4,    9,   10,    4,   11]])\n",
    "\n",
    "b = np.array(\n",
    "   [[3,    10,   14,    7,    9],\n",
    "    [9,     6,    9,   12,    9],\n",
    "    [12,    8,   17,   11,   10],\n",
    "    [14,   11,    9,   14,   10],\n",
    "    [16,   15,    8,   10,   15]])\n",
    "\n",
    "c = a - b\n",
    "print(c)\n",
    "print(c.sum())"
   ]
  },
  {
   "cell_type": "code",
   "execution_count": 23,
   "metadata": {},
   "outputs": [
    {
     "name": "stdout",
     "output_type": "stream",
     "text": [
      "[[435 658 625 484 723]\n",
      " [477 595 571 558 674]\n",
      " [463 573 552 493 634]\n",
      " [385 521 480 463 538]\n",
      " [355 481 457 447 487]]\n",
      "13129\n"
     ]
    }
   ],
   "source": [
    "# Matrices product\n",
    "a = np.array(\n",
    "   [[11,  12,    6,   20,    9],\n",
    "    [9,   11,   16,   10,   13],\n",
    "    [13,  10,   11,   11,    9],\n",
    "    [11,  10,   15,    9,    1],\n",
    "    [6,    5,   15,   12,    6]])\n",
    "\n",
    "b = np.array(\n",
    "   [[16,   11,   12,    9,   11],\n",
    "    [2,    11,    8,    6,   17],\n",
    "    [9,    10,    9,   15,    8],\n",
    "    [5,    15,   14,    8,   13],\n",
    "    [9,     5,    7,    7,   10]])\n",
    "\n",
    "c = a @ b\n",
    "\n",
    "print(c)\n",
    "print(c.sum())"
   ]
  },
  {
   "cell_type": "code",
   "execution_count": 30,
   "metadata": {},
   "outputs": [
    {
     "name": "stdout",
     "output_type": "stream",
     "text": [
      "708\n",
      "[[39 24 21 45 42]\n",
      " [27 24 18 33 21]\n",
      " [15 30 27 42 42]\n",
      " [12 15 36 21 27]\n",
      " [27 27 30 36 27]]\n"
     ]
    }
   ],
   "source": [
    "# Matrix and scalar product\n",
    "a = np.matrix([[13,   8,    7,   15,   14],\n",
    "               [9,    8,    6,   11,    7],\n",
    "               [5,   10,    9,   14,   14],\n",
    "               [4,    5,   12,    7,    9],\n",
    "               [9,    9,   10,   12,    9]])\n",
    "alpha = 3\n",
    "\n",
    "c = alpha * a\n",
    "\n",
    "print(c.sum())\n",
    "print(c)"
   ]
  },
  {
   "cell_type": "code",
   "execution_count": null,
   "metadata": {},
   "outputs": [],
   "source": []
  }
 ],
 "metadata": {
  "kernelspec": {
   "display_name": "alura_pandas",
   "language": "python",
   "name": "python3"
  },
  "language_info": {
   "codemirror_mode": {
    "name": "ipython",
    "version": 3
   },
   "file_extension": ".py",
   "mimetype": "text/x-python",
   "name": "python",
   "nbconvert_exporter": "python",
   "pygments_lexer": "ipython3",
   "version": "3.10.4"
  },
  "orig_nbformat": 4
 },
 "nbformat": 4,
 "nbformat_minor": 2
}
