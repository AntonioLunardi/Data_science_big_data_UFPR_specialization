{
  "nbformat": 4,
  "nbformat_minor": 0,
  "metadata": {
    "colab": {
      "provenance": [],
      "authorship_tag": "ABX9TyODVKJhshi+s0w3y1pzYxAS",
      "include_colab_link": true
    },
    "kernelspec": {
      "name": "python3",
      "display_name": "Python 3"
    },
    "language_info": {
      "name": "python"
    }
  },
  "cells": [
    {
      "cell_type": "markdown",
      "metadata": {
        "id": "view-in-github",
        "colab_type": "text"
      },
      "source": [
        "<a href=\"https://colab.research.google.com/github/AntonioLunardi/Data_science_big_data_UFPR_specialization/blob/main/calculus_exercises.ipynb\" target=\"_parent\"><img src=\"https://colab.research.google.com/assets/colab-badge.svg\" alt=\"Open In Colab\"/></a>"
      ]
    },
    {
      "cell_type": "code",
      "execution_count": null,
      "metadata": {
        "id": "1nz1iUzNqLmg"
      },
      "outputs": [],
      "source": [
        "from sympy import *\n",
        "import sympy as sym\n",
        "import math"
      ]
    },
    {
      "cell_type": "code",
      "source": [
        "import pandas as pd\n",
        "import difflib as diff"
      ],
      "metadata": {
        "id": "W33VeDB2qWhq"
      },
      "execution_count": null,
      "outputs": []
    },
    {
      "cell_type": "code",
      "source": [
        "x = sym.Symbol('x')"
      ],
      "metadata": {
        "id": "rT98pfShqdXe"
      },
      "execution_count": null,
      "outputs": []
    },
    {
      "cell_type": "markdown",
      "source": [
        "## Exercise 1:"
      ],
      "metadata": {
        "id": "coasELK7tcAD"
      }
    },
    {
      "cell_type": "code",
      "source": [
        "a = (8*x - 5)*(8*x - 5)\n",
        "b = (7*x + 4)\n",
        "y = a/b"
      ],
      "metadata": {
        "id": "2Oixv7H6qZqU"
      },
      "execution_count": null,
      "outputs": []
    },
    {
      "cell_type": "code",
      "source": [
        "y"
      ],
      "metadata": {
        "colab": {
          "base_uri": "https://localhost:8080/",
          "height": 58
        },
        "id": "hUoxGhnArUoL",
        "outputId": "4b095367-40be-406d-c2db-3364bd7c4a90"
      },
      "execution_count": null,
      "outputs": [
        {
          "output_type": "execute_result",
          "data": {
            "text/plain": [
              "(8*x - 5)**2/(7*x + 4)"
            ],
            "text/latex": "$\\displaystyle \\frac{\\left(8 x - 5\\right)^{2}}{7 x + 4}$"
          },
          "metadata": {},
          "execution_count": 63
        }
      ]
    },
    {
      "cell_type": "code",
      "source": [
        "dy = sym.diff(y,x)\n",
        "dy"
      ],
      "metadata": {
        "colab": {
          "base_uri": "https://localhost:8080/",
          "height": 63
        },
        "id": "cMkb7GahrKWV",
        "outputId": "423d150a-c4d2-46d0-ec95-dc3476a60515"
      },
      "execution_count": null,
      "outputs": [
        {
          "output_type": "execute_result",
          "data": {
            "text/plain": [
              "(128*x - 80)/(7*x + 4) - 7*(8*x - 5)**2/(7*x + 4)**2"
            ],
            "text/latex": "$\\displaystyle \\frac{128 x - 80}{7 x + 4} - \\frac{7 \\left(8 x - 5\\right)^{2}}{\\left(7 x + 4\\right)^{2}}$"
          },
          "metadata": {},
          "execution_count": 64
        }
      ]
    },
    {
      "cell_type": "code",
      "source": [
        "eval(str((dy)).replace('x', '2'))"
      ],
      "metadata": {
        "colab": {
          "base_uri": "https://localhost:8080/"
        },
        "id": "Nh38DfnTsXSL",
        "outputId": "734aec60-323d-414a-eeea-37d8691ed3fd"
      },
      "execution_count": null,
      "outputs": [
        {
          "output_type": "execute_result",
          "data": {
            "text/plain": [
              "7.163580246913581"
            ]
          },
          "metadata": {},
          "execution_count": 65
        }
      ]
    },
    {
      "cell_type": "markdown",
      "source": [
        "## Exercise 2:"
      ],
      "metadata": {
        "id": "1Tb_TWwGvXXU"
      }
    },
    {
      "cell_type": "code",
      "source": [
        "a = 4*x*(8*x-1)\n",
        "b = 4*x-2\n",
        "y = a/b\n",
        "y"
      ],
      "metadata": {
        "colab": {
          "base_uri": "https://localhost:8080/",
          "height": 54
        },
        "id": "Jsr0O-ZzvS-f",
        "outputId": "7db1e2f4-2d6a-47bf-b922-ae8f27353630"
      },
      "execution_count": null,
      "outputs": [
        {
          "output_type": "execute_result",
          "data": {
            "text/plain": [
              "4*x*(8*x - 1)/(4*x - 2)"
            ],
            "text/latex": "$\\displaystyle \\frac{4 x \\left(8 x - 1\\right)}{4 x - 2}$"
          },
          "metadata": {},
          "execution_count": 66
        }
      ]
    },
    {
      "cell_type": "code",
      "source": [
        "dy = sym.diff(y,x)\n",
        "dy"
      ],
      "metadata": {
        "colab": {
          "base_uri": "https://localhost:8080/",
          "height": 60
        },
        "id": "I5VYupsWv3yQ",
        "outputId": "5fdcb4a9-baac-4f6e-eb3e-3bdfaf8b746b"
      },
      "execution_count": null,
      "outputs": [
        {
          "output_type": "execute_result",
          "data": {
            "text/plain": [
              "32*x/(4*x - 2) - 16*x*(8*x - 1)/(4*x - 2)**2 + 4*(8*x - 1)/(4*x - 2)"
            ],
            "text/latex": "$\\displaystyle \\frac{32 x}{4 x - 2} - \\frac{16 x \\left(8 x - 1\\right)}{\\left(4 x - 2\\right)^{2}} + \\frac{4 \\cdot \\left(8 x - 1\\right)}{4 x - 2}$"
          },
          "metadata": {},
          "execution_count": 67
        }
      ]
    },
    {
      "cell_type": "code",
      "source": [
        "eval(str((dy)).replace('x', '2'))"
      ],
      "metadata": {
        "colab": {
          "base_uri": "https://localhost:8080/"
        },
        "id": "JQXMdQvKwPRi",
        "outputId": "5df6c1f6-6eb9-4821-cf60-31b96c8e345f"
      },
      "execution_count": null,
      "outputs": [
        {
          "output_type": "execute_result",
          "data": {
            "text/plain": [
              "7.333333333333332"
            ]
          },
          "metadata": {},
          "execution_count": 68
        }
      ]
    },
    {
      "cell_type": "markdown",
      "source": [
        "## Exercise 3:"
      ],
      "metadata": {
        "id": "_BShkgENxlL5"
      }
    },
    {
      "cell_type": "code",
      "source": [
        "y = (x*x + 10)*(x*x + 10)\n",
        "y"
      ],
      "metadata": {
        "colab": {
          "base_uri": "https://localhost:8080/",
          "height": 41
        },
        "id": "mMJJMSyYxi7N",
        "outputId": "1999feee-2b82-4c25-e344-b0d395ebd686"
      },
      "execution_count": null,
      "outputs": [
        {
          "output_type": "execute_result",
          "data": {
            "text/plain": [
              "(x**2 + 10)**2"
            ],
            "text/latex": "$\\displaystyle \\left(x^{2} + 10\\right)^{2}$"
          },
          "metadata": {},
          "execution_count": 69
        }
      ]
    },
    {
      "cell_type": "code",
      "source": [
        "dy = sym.diff(y,x)\n",
        "dy"
      ],
      "metadata": {
        "colab": {
          "base_uri": "https://localhost:8080/",
          "height": 38
        },
        "id": "mGZigzfex1Kd",
        "outputId": "6aff6097-3203-4e31-b8ff-e3b7ed9cdc09"
      },
      "execution_count": null,
      "outputs": [
        {
          "output_type": "execute_result",
          "data": {
            "text/plain": [
              "4*x*(x**2 + 10)"
            ],
            "text/latex": "$\\displaystyle 4 x \\left(x^{2} + 10\\right)$"
          },
          "metadata": {},
          "execution_count": 70
        }
      ]
    },
    {
      "cell_type": "markdown",
      "source": [
        "## Exercise 4"
      ],
      "metadata": {
        "id": "PkXb9q06OFS9"
      }
    },
    {
      "cell_type": "code",
      "source": [
        "y = 1/(x*x*x)\n",
        "y"
      ],
      "metadata": {
        "colab": {
          "base_uri": "https://localhost:8080/",
          "height": 51
        },
        "id": "kCRy3YehOEV6",
        "outputId": "bce0649d-fd3c-4f52-8899-4e45bb4fc610"
      },
      "execution_count": null,
      "outputs": [
        {
          "output_type": "execute_result",
          "data": {
            "text/plain": [
              "x**(-3)"
            ],
            "text/latex": "$\\displaystyle \\frac{1}{x^{3}}$"
          },
          "metadata": {},
          "execution_count": 71
        }
      ]
    },
    {
      "cell_type": "code",
      "source": [
        "dy = sym.diff(y,x)\n",
        "dy"
      ],
      "metadata": {
        "colab": {
          "base_uri": "https://localhost:8080/",
          "height": 51
        },
        "id": "dSM_ZOGzOQw0",
        "outputId": "c0fe05ce-f508-4443-abe5-ec5d4acea2b9"
      },
      "execution_count": null,
      "outputs": [
        {
          "output_type": "execute_result",
          "data": {
            "text/plain": [
              "-3/x**4"
            ],
            "text/latex": "$\\displaystyle - \\frac{3}{x^{4}}$"
          },
          "metadata": {},
          "execution_count": 72
        }
      ]
    },
    {
      "cell_type": "code",
      "source": [],
      "metadata": {
        "id": "RVhiCSawOX_h"
      },
      "execution_count": null,
      "outputs": []
    },
    {
      "cell_type": "markdown",
      "source": [
        "## Exercise 5"
      ],
      "metadata": {
        "id": "UCBEJPaTOhJY"
      }
    },
    {
      "cell_type": "code",
      "source": [
        "y = x ** -5\n",
        "y"
      ],
      "metadata": {
        "colab": {
          "base_uri": "https://localhost:8080/",
          "height": 51
        },
        "id": "SryzhtdWRflw",
        "outputId": "9f6a448f-4afa-487d-ee28-6db9b5f978a2"
      },
      "execution_count": null,
      "outputs": [
        {
          "output_type": "execute_result",
          "data": {
            "text/plain": [
              "x**(-5)"
            ],
            "text/latex": "$\\displaystyle \\frac{1}{x^{5}}$"
          },
          "metadata": {},
          "execution_count": 73
        }
      ]
    },
    {
      "cell_type": "code",
      "source": [
        "Y = sym.integrate(y, x)\n",
        "Y"
      ],
      "metadata": {
        "colab": {
          "base_uri": "https://localhost:8080/",
          "height": 51
        },
        "id": "dDH1qQPuOjbF",
        "outputId": "c1f0393b-21a5-4d4e-e6d8-4d109b800617"
      },
      "execution_count": null,
      "outputs": [
        {
          "output_type": "execute_result",
          "data": {
            "text/plain": [
              "-1/(4*x**4)"
            ],
            "text/latex": "$\\displaystyle - \\frac{1}{4 x^{4}}$"
          },
          "metadata": {},
          "execution_count": 74
        }
      ]
    },
    {
      "cell_type": "markdown",
      "source": [
        "## Exercise 6:"
      ],
      "metadata": {
        "id": "6moKFRpTRzic"
      }
    },
    {
      "cell_type": "code",
      "source": [
        "y = x ** 5 # From x=1 up to x=5\n",
        "y"
      ],
      "metadata": {
        "colab": {
          "base_uri": "https://localhost:8080/",
          "height": 38
        },
        "id": "cqomk_gIRzAa",
        "outputId": "29fb11e0-2b7b-489a-8cb6-ed8ed02d3116"
      },
      "execution_count": null,
      "outputs": [
        {
          "output_type": "execute_result",
          "data": {
            "text/plain": [
              "x**5"
            ],
            "text/latex": "$\\displaystyle x^{5}$"
          },
          "metadata": {},
          "execution_count": 75
        }
      ]
    },
    {
      "cell_type": "code",
      "source": [
        "Y = sym.integrate(y, (x, 1, 5))\n",
        "Y"
      ],
      "metadata": {
        "colab": {
          "base_uri": "https://localhost:8080/",
          "height": 37
        },
        "id": "KaFbleKDRYUU",
        "outputId": "41f88a67-1420-4c31-8603-6fa17612593e"
      },
      "execution_count": null,
      "outputs": [
        {
          "output_type": "execute_result",
          "data": {
            "text/plain": [
              "2604"
            ],
            "text/latex": "$\\displaystyle 2604$"
          },
          "metadata": {},
          "execution_count": 76
        }
      ]
    },
    {
      "cell_type": "markdown",
      "source": [
        "## Exercise 7:"
      ],
      "metadata": {
        "id": "7m9NoR6sSxxm"
      }
    },
    {
      "cell_type": "code",
      "source": [
        "a = exp(x)\n",
        "b = 2*x\n",
        "y = a * b\n",
        "y"
      ],
      "metadata": {
        "colab": {
          "base_uri": "https://localhost:8080/",
          "height": 38
        },
        "id": "V5FZ39gSSNbl",
        "outputId": "7c97838f-1e5c-426b-bd53-41f8d5f8b322"
      },
      "execution_count": null,
      "outputs": [
        {
          "output_type": "execute_result",
          "data": {
            "text/plain": [
              "2*x*exp(x)"
            ],
            "text/latex": "$\\displaystyle 2 x e^{x}$"
          },
          "metadata": {},
          "execution_count": 82
        }
      ]
    },
    {
      "cell_type": "code",
      "source": [
        "dy = sym.diff(y,x)\n",
        "dy"
      ],
      "metadata": {
        "colab": {
          "base_uri": "https://localhost:8080/",
          "height": 38
        },
        "id": "8k6GK-tRSxKo",
        "outputId": "5a64dca5-10f4-45d5-991f-0a0a1791b329"
      },
      "execution_count": null,
      "outputs": [
        {
          "output_type": "execute_result",
          "data": {
            "text/plain": [
              "2*x*exp(x) + 2*exp(x)"
            ],
            "text/latex": "$\\displaystyle 2 x e^{x} + 2 e^{x}$"
          },
          "metadata": {},
          "execution_count": 83
        }
      ]
    },
    {
      "cell_type": "code",
      "source": [
        "ddy = sym.diff(dy, x)\n",
        "ddy"
      ],
      "metadata": {
        "colab": {
          "base_uri": "https://localhost:8080/",
          "height": 38
        },
        "id": "oUGOAvPW0wx0",
        "outputId": "9516ef36-710f-4b6c-889c-10ed240a8280"
      },
      "execution_count": null,
      "outputs": [
        {
          "output_type": "execute_result",
          "data": {
            "text/plain": [
              "2*x*exp(x) + 4*exp(x)"
            ],
            "text/latex": "$\\displaystyle 2 x e^{x} + 4 e^{x}$"
          },
          "metadata": {},
          "execution_count": 84
        }
      ]
    },
    {
      "cell_type": "code",
      "source": [
        "e = math.e\n",
        "e"
      ],
      "metadata": {
        "colab": {
          "base_uri": "https://localhost:8080/"
        },
        "id": "LFwBUGpoITFy",
        "outputId": "0d7157d2-7865-4e71-a5af-a7a617ff5b3b"
      },
      "execution_count": null,
      "outputs": [
        {
          "output_type": "execute_result",
          "data": {
            "text/plain": [
              "2.718281828459045"
            ]
          },
          "metadata": {},
          "execution_count": 94
        }
      ]
    },
    {
      "cell_type": "code",
      "source": [
        "2*(e**2)*3"
      ],
      "metadata": {
        "colab": {
          "base_uri": "https://localhost:8080/"
        },
        "id": "DaP0uNpn1Jp9",
        "outputId": "fd920ce0-e613-458b-82eb-cdb2669c6ed0"
      },
      "execution_count": null,
      "outputs": [
        {
          "output_type": "execute_result",
          "data": {
            "text/plain": [
              "44.3343365935839"
            ]
          },
          "metadata": {},
          "execution_count": 92
        }
      ]
    },
    {
      "cell_type": "code",
      "source": [
        "2*(e**2)*4"
      ],
      "metadata": {
        "colab": {
          "base_uri": "https://localhost:8080/"
        },
        "id": "ofP9icSg2i7f",
        "outputId": "7ca58508-1e02-47dd-fc31-b1c6e9049cbf"
      },
      "execution_count": null,
      "outputs": [
        {
          "output_type": "execute_result",
          "data": {
            "text/plain": [
              "59.112448791445196"
            ]
          },
          "metadata": {},
          "execution_count": 95
        }
      ]
    },
    {
      "cell_type": "markdown",
      "source": [
        "## Exercise 8:"
      ],
      "metadata": {
        "id": "vt6IEHP4KDbr"
      }
    },
    {
      "cell_type": "code",
      "source": [
        "y = x * exp(-2*x)\n",
        "y"
      ],
      "metadata": {
        "colab": {
          "base_uri": "https://localhost:8080/",
          "height": 38
        },
        "id": "oOFaLU-9IWDq",
        "outputId": "e24074d4-36eb-4d3f-8a46-d788656cba8a"
      },
      "execution_count": null,
      "outputs": [
        {
          "output_type": "execute_result",
          "data": {
            "text/plain": [
              "x*exp(-2*x)"
            ],
            "text/latex": "$\\displaystyle x e^{- 2 x}$"
          },
          "metadata": {},
          "execution_count": 100
        }
      ]
    },
    {
      "cell_type": "code",
      "source": [
        "dy = sym.diff(y,x)\n",
        "dy"
      ],
      "metadata": {
        "colab": {
          "base_uri": "https://localhost:8080/",
          "height": 38
        },
        "id": "lLqh-DtjOjRS",
        "outputId": "84822faa-30e6-47d5-eb1f-e5fe78c096e0"
      },
      "execution_count": null,
      "outputs": [
        {
          "output_type": "execute_result",
          "data": {
            "text/plain": [
              "-2*x*exp(-2*x) + exp(-2*x)"
            ],
            "text/latex": "$\\displaystyle - 2 x e^{- 2 x} + e^{- 2 x}$"
          },
          "metadata": {},
          "execution_count": 101
        }
      ]
    },
    {
      "cell_type": "code",
      "source": [
        "solve(dy) # Critical point in x = 0.500"
      ],
      "metadata": {
        "colab": {
          "base_uri": "https://localhost:8080/"
        },
        "id": "XMfh7Y_qO5GA",
        "outputId": "75bfa4be-692a-46e3-bd7e-956a4cb99507"
      },
      "execution_count": null,
      "outputs": [
        {
          "output_type": "execute_result",
          "data": {
            "text/plain": [
              "[1/2]"
            ]
          },
          "metadata": {},
          "execution_count": 102
        }
      ]
    },
    {
      "cell_type": "code",
      "source": [
        "ddy = sym.diff(dy, x)\n",
        "ddy"
      ],
      "metadata": {
        "colab": {
          "base_uri": "https://localhost:8080/",
          "height": 38
        },
        "id": "7pqwIh0TQhyB",
        "outputId": "1f268d1c-9b74-41d2-b4b3-b2dce1d33cf5"
      },
      "execution_count": null,
      "outputs": [
        {
          "output_type": "execute_result",
          "data": {
            "text/plain": [
              "4*x*exp(-2*x) - 4*exp(-2*x)"
            ],
            "text/latex": "$\\displaystyle 4 x e^{- 2 x} - 4 e^{- 2 x}$"
          },
          "metadata": {},
          "execution_count": 103
        }
      ]
    },
    {
      "cell_type": "code",
      "source": [
        "solve(ddy) # It means the critical point is a maximum one"
      ],
      "metadata": {
        "colab": {
          "base_uri": "https://localhost:8080/"
        },
        "id": "a4Q4rjVJQgZ9",
        "outputId": "aff85c84-5f25-4cc2-9122-19f58b36aaa8"
      },
      "execution_count": null,
      "outputs": [
        {
          "output_type": "execute_result",
          "data": {
            "text/plain": [
              "[1]"
            ]
          },
          "metadata": {},
          "execution_count": 105
        }
      ]
    },
    {
      "cell_type": "markdown",
      "source": [
        "## Exercise 9"
      ],
      "metadata": {
        "id": "CaR4fBrWQ5EG"
      }
    },
    {
      "cell_type": "code",
      "source": [
        "y = sym.Symbol('y')"
      ],
      "metadata": {
        "id": "UkcP-LfqSNCX"
      },
      "execution_count": null,
      "outputs": []
    },
    {
      "cell_type": "code",
      "source": [
        "z = 60*x + 34*y - 6*(x**2) -3*(y**2) + 5\n",
        "z"
      ],
      "metadata": {
        "colab": {
          "base_uri": "https://localhost:8080/",
          "height": 38
        },
        "id": "lIlyLkgRQwOU",
        "outputId": "9ac83ac5-f50a-49c2-ef7b-a33a68a5bbb3"
      },
      "execution_count": null,
      "outputs": [
        {
          "output_type": "execute_result",
          "data": {
            "text/plain": [
              "-6*x**2 + 60*x - 3*y**2 + 34*y + 5"
            ],
            "text/latex": "$\\displaystyle - 6 x^{2} + 60 x - 3 y^{2} + 34 y + 5$"
          },
          "metadata": {},
          "execution_count": 108
        }
      ]
    },
    {
      "cell_type": "code",
      "source": [
        "zdx = sym.diff(z, x)\n",
        "zdx"
      ],
      "metadata": {
        "colab": {
          "base_uri": "https://localhost:8080/",
          "height": 38
        },
        "id": "iXeyP-2GSbKA",
        "outputId": "c8b57964-156b-4909-99d6-1a3f53e811d4"
      },
      "execution_count": null,
      "outputs": [
        {
          "output_type": "execute_result",
          "data": {
            "text/plain": [
              "60 - 12*x"
            ],
            "text/latex": "$\\displaystyle 60 - 12 x$"
          },
          "metadata": {},
          "execution_count": 109
        }
      ]
    },
    {
      "cell_type": "code",
      "source": [
        "critical_x = solve(zdx)\n",
        "critical_x"
      ],
      "metadata": {
        "colab": {
          "base_uri": "https://localhost:8080/"
        },
        "id": "e7iLtrjuTdE6",
        "outputId": "86db83a5-f073-4dc6-ccd6-291c556be013"
      },
      "execution_count": null,
      "outputs": [
        {
          "output_type": "execute_result",
          "data": {
            "text/plain": [
              "[5]"
            ]
          },
          "metadata": {},
          "execution_count": 111
        }
      ]
    },
    {
      "cell_type": "code",
      "source": [
        "zdy = sym.diff(z, y)\n",
        "zdy"
      ],
      "metadata": {
        "colab": {
          "base_uri": "https://localhost:8080/",
          "height": 38
        },
        "id": "Uen1Yj_XSxzG",
        "outputId": "1eafa3c6-36e3-4590-989c-a953def17702"
      },
      "execution_count": null,
      "outputs": [
        {
          "output_type": "execute_result",
          "data": {
            "text/plain": [
              "34 - 6*y"
            ],
            "text/latex": "$\\displaystyle 34 - 6 y$"
          },
          "metadata": {},
          "execution_count": 110
        }
      ]
    },
    {
      "cell_type": "code",
      "source": [
        "critical_y = solve(zdy)\n",
        "critical_y"
      ],
      "metadata": {
        "colab": {
          "base_uri": "https://localhost:8080/"
        },
        "id": "GycdyOMsS3im",
        "outputId": "0cfa12be-ee1e-4d52-a4dd-a896894ac748"
      },
      "execution_count": null,
      "outputs": [
        {
          "output_type": "execute_result",
          "data": {
            "text/plain": [
              "[17/3]"
            ]
          },
          "metadata": {},
          "execution_count": 112
        }
      ]
    },
    {
      "cell_type": "markdown",
      "source": [
        "## Exercise 10"
      ],
      "metadata": {
        "id": "L9u3A3GaeXiZ"
      }
    },
    {
      "cell_type": "code",
      "source": [
        "a = 2\n",
        "u = a ** (2*x + 3*y)\n",
        "u"
      ],
      "metadata": {
        "colab": {
          "base_uri": "https://localhost:8080/",
          "height": 37
        },
        "id": "KC-Bh4DXTob4",
        "outputId": "5936a622-c1d1-428e-b2e8-8fb32df65d46"
      },
      "execution_count": null,
      "outputs": [
        {
          "output_type": "execute_result",
          "data": {
            "text/plain": [
              "2**(2*x + 3*y)"
            ],
            "text/latex": "$\\displaystyle 2^{2 x + 3 y}$"
          },
          "metadata": {},
          "execution_count": 113
        }
      ]
    },
    {
      "cell_type": "markdown",
      "source": [
        "Gradient"
      ],
      "metadata": {
        "id": "ZQ3bF5g8f8Ts"
      }
    },
    {
      "cell_type": "code",
      "source": [
        "ux = sym.diff(u, x)\n",
        "ux"
      ],
      "metadata": {
        "colab": {
          "base_uri": "https://localhost:8080/",
          "height": 37
        },
        "id": "MgRb2EOlew02",
        "outputId": "5d2fa12f-7227-4804-e9aa-e7f0a020090d"
      },
      "execution_count": null,
      "outputs": [
        {
          "output_type": "execute_result",
          "data": {
            "text/plain": [
              "2*2**(2*x + 3*y)*log(2)"
            ],
            "text/latex": "$\\displaystyle 2 \\cdot 2^{2 x + 3 y} \\log{\\left(2 \\right)}$"
          },
          "metadata": {},
          "execution_count": 114
        }
      ]
    },
    {
      "cell_type": "code",
      "source": [
        "eval(str((ux)).replace('x', '2').replace('y', '1'))"
      ],
      "metadata": {
        "colab": {
          "base_uri": "https://localhost:8080/",
          "height": 37
        },
        "id": "22_T0v0hhb2X",
        "outputId": "147f4fa2-b03c-4fb1-a3ec-39c5a4ccda46"
      },
      "execution_count": null,
      "outputs": [
        {
          "output_type": "execute_result",
          "data": {
            "text/plain": [
              "256*log(2)"
            ],
            "text/latex": "$\\displaystyle 256 \\log{\\left(2 \\right)}$"
          },
          "metadata": {},
          "execution_count": 121
        }
      ]
    },
    {
      "cell_type": "code",
      "source": [
        "math.log(2) * 256"
      ],
      "metadata": {
        "colab": {
          "base_uri": "https://localhost:8080/"
        },
        "id": "4RW7_Jt1iLn-",
        "outputId": "bc640da8-7c7a-45fc-cc60-e056531bde6a"
      },
      "execution_count": null,
      "outputs": [
        {
          "output_type": "execute_result",
          "data": {
            "text/plain": [
              "177.445678223346"
            ]
          },
          "metadata": {},
          "execution_count": 130
        }
      ]
    },
    {
      "cell_type": "code",
      "source": [
        "uy = sym.diff(u, y)\n",
        "uy"
      ],
      "metadata": {
        "colab": {
          "base_uri": "https://localhost:8080/",
          "height": 37
        },
        "id": "HoFRYioRgA3R",
        "outputId": "9c86c172-1315-476e-ba3c-3711d6f1e203"
      },
      "execution_count": null,
      "outputs": [
        {
          "output_type": "execute_result",
          "data": {
            "text/plain": [
              "3*2**(2*x + 3*y)*log(2)"
            ],
            "text/latex": "$\\displaystyle 3 \\cdot 2^{2 x + 3 y} \\log{\\left(2 \\right)}$"
          },
          "metadata": {},
          "execution_count": 115
        }
      ]
    },
    {
      "cell_type": "code",
      "source": [
        "eval(str((uy)).replace('x', '2').replace('y', '1'))"
      ],
      "metadata": {
        "colab": {
          "base_uri": "https://localhost:8080/",
          "height": 37
        },
        "id": "80VJ-i0khea-",
        "outputId": "f9596c72-7ab8-4a15-8cd8-2522520a17da"
      },
      "execution_count": null,
      "outputs": [
        {
          "output_type": "execute_result",
          "data": {
            "text/plain": [
              "384*log(2)"
            ],
            "text/latex": "$\\displaystyle 384 \\log{\\left(2 \\right)}$"
          },
          "metadata": {},
          "execution_count": 122
        }
      ]
    },
    {
      "cell_type": "code",
      "source": [
        "math.log(2) * 384"
      ],
      "metadata": {
        "colab": {
          "base_uri": "https://localhost:8080/"
        },
        "id": "gsqr5JS0h93l",
        "outputId": "cc3f9e58-58bb-4ecf-ff27-8b61b5fcc212"
      },
      "execution_count": null,
      "outputs": [
        {
          "output_type": "execute_result",
          "data": {
            "text/plain": [
              "266.168517335019"
            ]
          },
          "metadata": {},
          "execution_count": 129
        }
      ]
    },
    {
      "cell_type": "markdown",
      "source": [
        "Hessian"
      ],
      "metadata": {
        "id": "R-AVUoPEgGWt"
      }
    },
    {
      "cell_type": "code",
      "source": [
        "uxx = sym.diff(ux, x)\n",
        "uxx"
      ],
      "metadata": {
        "colab": {
          "base_uri": "https://localhost:8080/",
          "height": 38
        },
        "id": "Uy2yKN_ygEe1",
        "outputId": "2f0dcb01-c826-4f20-dd61-3c1c7f65a83a"
      },
      "execution_count": null,
      "outputs": [
        {
          "output_type": "execute_result",
          "data": {
            "text/plain": [
              "4*2**(2*x + 3*y)*log(2)**2"
            ],
            "text/latex": "$\\displaystyle 4 \\cdot 2^{2 x + 3 y} \\log{\\left(2 \\right)}^{2}$"
          },
          "metadata": {},
          "execution_count": 116
        }
      ]
    },
    {
      "cell_type": "code",
      "source": [
        "eval(str((uxx)).replace('x', '2').replace('y', '1'))"
      ],
      "metadata": {
        "colab": {
          "base_uri": "https://localhost:8080/",
          "height": 38
        },
        "id": "t2ooREIlgg9b",
        "outputId": "436a9f07-4b8b-422c-d6c2-df4dae495cd5"
      },
      "execution_count": null,
      "outputs": [
        {
          "output_type": "execute_result",
          "data": {
            "text/plain": [
              "512*log(2)**2"
            ],
            "text/latex": "$\\displaystyle 512 \\log{\\left(2 \\right)}^{2}$"
          },
          "metadata": {},
          "execution_count": 120
        }
      ]
    },
    {
      "cell_type": "code",
      "source": [
        "math.log(2) * 512"
      ],
      "metadata": {
        "colab": {
          "base_uri": "https://localhost:8080/"
        },
        "id": "T6FarPpKiQt2",
        "outputId": "fa6b2584-f0eb-4c86-a252-f2d63416b601"
      },
      "execution_count": null,
      "outputs": [
        {
          "output_type": "execute_result",
          "data": {
            "text/plain": [
              "354.891356446692"
            ]
          },
          "metadata": {},
          "execution_count": 131
        }
      ]
    },
    {
      "cell_type": "code",
      "source": [
        "uxy = sym.diff(ux, y)\n",
        "uxy"
      ],
      "metadata": {
        "colab": {
          "base_uri": "https://localhost:8080/",
          "height": 38
        },
        "id": "5Ao3sij3gNxl",
        "outputId": "633f8b5c-5520-4261-e3c1-8fb59ba1dd91"
      },
      "execution_count": null,
      "outputs": [
        {
          "output_type": "execute_result",
          "data": {
            "text/plain": [
              "6*2**(2*x + 3*y)*log(2)**2"
            ],
            "text/latex": "$\\displaystyle 6 \\cdot 2^{2 x + 3 y} \\log{\\left(2 \\right)}^{2}$"
          },
          "metadata": {},
          "execution_count": 117
        }
      ]
    },
    {
      "cell_type": "code",
      "source": [
        "eval(str((uxy)).replace('x', '2').replace('y', '1'))"
      ],
      "metadata": {
        "colab": {
          "base_uri": "https://localhost:8080/",
          "height": 38
        },
        "id": "qB7SDiWThiVS",
        "outputId": "cb8864a5-6e30-45a5-d129-a5d349e68b30"
      },
      "execution_count": null,
      "outputs": [
        {
          "output_type": "execute_result",
          "data": {
            "text/plain": [
              "768*log(2)**2"
            ],
            "text/latex": "$\\displaystyle 768 \\log{\\left(2 \\right)}^{2}$"
          },
          "metadata": {},
          "execution_count": 123
        }
      ]
    },
    {
      "cell_type": "code",
      "source": [
        "math.log(2) * 768"
      ],
      "metadata": {
        "colab": {
          "base_uri": "https://localhost:8080/"
        },
        "id": "PqnguujpiTIi",
        "outputId": "6a4f4787-689d-4a8a-d275-65d4ee91f5e0"
      },
      "execution_count": null,
      "outputs": [
        {
          "output_type": "execute_result",
          "data": {
            "text/plain": [
              "532.337034670038"
            ]
          },
          "metadata": {},
          "execution_count": 132
        }
      ]
    },
    {
      "cell_type": "code",
      "source": [
        "uyy = sym.diff(uy, y)\n",
        "uyy"
      ],
      "metadata": {
        "colab": {
          "base_uri": "https://localhost:8080/",
          "height": 38
        },
        "id": "dO7EpVTpgSnH",
        "outputId": "1f73eab3-6b81-4693-8ea6-e65f9d2ad085"
      },
      "execution_count": null,
      "outputs": [
        {
          "output_type": "execute_result",
          "data": {
            "text/plain": [
              "9*2**(2*x + 3*y)*log(2)**2"
            ],
            "text/latex": "$\\displaystyle 9 \\cdot 2^{2 x + 3 y} \\log{\\left(2 \\right)}^{2}$"
          },
          "metadata": {},
          "execution_count": 118
        }
      ]
    },
    {
      "cell_type": "code",
      "source": [
        "eval(str((uyy)).replace('x', '2').replace('y', '1'))"
      ],
      "metadata": {
        "colab": {
          "base_uri": "https://localhost:8080/",
          "height": 38
        },
        "id": "oRhl6eIrhk7P",
        "outputId": "406b2a32-e89a-493e-96ae-76d0abafedab"
      },
      "execution_count": null,
      "outputs": [
        {
          "output_type": "execute_result",
          "data": {
            "text/plain": [
              "1152*log(2)**2"
            ],
            "text/latex": "$\\displaystyle 1152 \\log{\\left(2 \\right)}^{2}$"
          },
          "metadata": {},
          "execution_count": 124
        }
      ]
    },
    {
      "cell_type": "code",
      "source": [
        "math.log(2) * 1152"
      ],
      "metadata": {
        "colab": {
          "base_uri": "https://localhost:8080/"
        },
        "id": "a1MZFasqiYyu",
        "outputId": "187ab7f0-bcc7-4243-ba7f-06a8659facbe"
      },
      "execution_count": null,
      "outputs": [
        {
          "output_type": "execute_result",
          "data": {
            "text/plain": [
              "798.505552005057"
            ]
          },
          "metadata": {},
          "execution_count": 133
        }
      ]
    },
    {
      "cell_type": "code",
      "source": [
        "uyx = sym.diff(uy, x)\n",
        "uyx"
      ],
      "metadata": {
        "colab": {
          "base_uri": "https://localhost:8080/",
          "height": 38
        },
        "id": "H10Rmb-egZI1",
        "outputId": "33e9e39f-8f17-4dcf-b83b-540681577186"
      },
      "execution_count": null,
      "outputs": [
        {
          "output_type": "execute_result",
          "data": {
            "text/plain": [
              "6*2**(2*x + 3*y)*log(2)**2"
            ],
            "text/latex": "$\\displaystyle 6 \\cdot 2^{2 x + 3 y} \\log{\\left(2 \\right)}^{2}$"
          },
          "metadata": {},
          "execution_count": 119
        }
      ]
    },
    {
      "cell_type": "code",
      "source": [
        "eval(str((uyx)).replace('x', '2').replace('y', '1'))"
      ],
      "metadata": {
        "colab": {
          "base_uri": "https://localhost:8080/",
          "height": 38
        },
        "id": "x_Or5aQmgey-",
        "outputId": "86658787-4709-456b-ce57-973654dbdf9d"
      },
      "execution_count": null,
      "outputs": [
        {
          "output_type": "execute_result",
          "data": {
            "text/plain": [
              "768*log(2)**2"
            ],
            "text/latex": "$\\displaystyle 768 \\log{\\left(2 \\right)}^{2}$"
          },
          "metadata": {},
          "execution_count": 125
        }
      ]
    },
    {
      "cell_type": "code",
      "source": [
        "math.log(2) * 768"
      ],
      "metadata": {
        "colab": {
          "base_uri": "https://localhost:8080/"
        },
        "id": "FbNhGR4WicNp",
        "outputId": "1d3ecd22-b138-436c-85bf-99e7fa858280"
      },
      "execution_count": null,
      "outputs": [
        {
          "output_type": "execute_result",
          "data": {
            "text/plain": [
              "532.337034670038"
            ]
          },
          "metadata": {},
          "execution_count": 135
        }
      ]
    }
  ]
}